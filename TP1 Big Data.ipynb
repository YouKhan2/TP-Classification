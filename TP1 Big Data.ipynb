{
 "cells": [
  {
   "cell_type": "markdown",
   "metadata": {},
   "source": [
    "# TP1 BIG DATA"
   ]
  },
  {
   "cell_type": "markdown",
   "metadata": {},
   "source": [
    "**On commence par les importations de rigueur**"
   ]
  },
  {
   "cell_type": "code",
   "execution_count": 1,
   "metadata": {},
   "outputs": [],
   "source": [
    "import numpy as np\n",
    "import matplotlib.pyplot as plt"
   ]
  },
  {
   "cell_type": "markdown",
   "metadata": {},
   "source": [
    "**Expérience 1:**"
   ]
  },
  {
   "cell_type": "markdown",
   "metadata": {},
   "source": [
    "**On définit la fonction f**"
   ]
  },
  {
   "cell_type": "code",
   "execution_count": 2,
   "metadata": {},
   "outputs": [],
   "source": [
    "def f(g,s,x):\n",
    "    n=g.shape[0]\n",
    "    return np.sum([np.exp(-np.linalg.norm(x-g[i-1])**2/(2*s[i-1]**2)) for i in range(1,n+1)])"
   ]
  },
  {
   "cell_type": "markdown",
   "metadata": {},
   "source": [
    "**On prépare un jeu de données tests généré aléatoirement**"
   ]
  },
  {
   "cell_type": "code",
   "execution_count": 3,
   "metadata": {},
   "outputs": [],
   "source": [
    "n=4\n",
    "a=0.3\n",
    "g=np.random.uniform(size=[n,2])\n",
    "s=np.random.uniform(low=0,high=a,size=n)\n",
    "x=np.random.uniform(size=2)"
   ]
  },
  {
   "cell_type": "markdown",
   "metadata": {},
   "source": [
    "**On peut tester f**"
   ]
  },
  {
   "cell_type": "code",
   "execution_count": 4,
   "metadata": {},
   "outputs": [
    {
     "data": {
      "text/plain": [
       "0.5832709898416055"
      ]
     },
     "execution_count": 4,
     "metadata": {},
     "output_type": "execute_result"
    }
   ],
   "source": [
    "f(g,s,x)"
   ]
  },
  {
   "cell_type": "markdown",
   "metadata": {},
   "source": [
    "**Question 1:**"
   ]
  },
  {
   "cell_type": "markdown",
   "metadata": {},
   "source": [
    "**La fonction suivante prend en entrée une liste d'abscisses $X_{1}$, une liste d'ordonnées $X_{2}$ et des paramètres $g$ et $s$. Elle renvoie une liste de même taille dans laquelle l'élément d'indice $i$ vaut $1$ si $(X_{1}[i],X_{2}[i]) \\in A$ et $-1$ sinon** "
   ]
  },
  {
   "cell_type": "code",
   "execution_count": 5,
   "metadata": {},
   "outputs": [],
   "source": [
    "def intens(X1,X2,g,s):\n",
    "    m=X1.shape[0]\n",
    "    result=-1*np.ones(m)\n",
    "    for i in range(m):\n",
    "        t=X1[i]\n",
    "        w=X2[i]\n",
    "        #print(\"t=\",t)\n",
    "        #print(\"w=\",w)\n",
    "        #print(\"n=\",n)\n",
    "        #print(\"g.shape=\",g.shape)\n",
    "        #print(\"s.shape=\",s.shape)\n",
    "        if (f(g,s,np.array([t,w])))>1/2:\n",
    "            result[i]=1\n",
    "    return result\n",
    "        "
   ]
  },
  {
   "cell_type": "code",
   "execution_count": 6,
   "metadata": {},
   "outputs": [],
   "source": [
    "X1,X2=np.mgrid[0:1:1/n**2,0:1:1/n**2]\n",
    "X1=X1.reshape(-1,)\n",
    "#print(\"X1.shape=\",X1.shape)\n",
    "X2=X2.reshape(-1,)"
   ]
  },
  {
   "cell_type": "code",
   "execution_count": 7,
   "metadata": {},
   "outputs": [
    {
     "data": {
      "text/plain": [
       "(256,)"
      ]
     },
     "execution_count": 7,
     "metadata": {},
     "output_type": "execute_result"
    }
   ],
   "source": [
    "intens(X1,X2,g,s).shape"
   ]
  },
  {
   "cell_type": "markdown",
   "metadata": {},
   "source": [
    "**Question 2:**"
   ]
  },
  {
   "cell_type": "markdown",
   "metadata": {},
   "source": [
    "**La fonction suivante génére un tirage de paramètres $g$ et $s$ en fonction des valeurs fixées de $n$ et $a$ Si $flag$ vaut $1$ elle fait en plus un affichage grossier de l'ensemble A considéré**"
   ]
  },
  {
   "cell_type": "code",
   "execution_count": 8,
   "metadata": {},
   "outputs": [],
   "source": [
    "def ensalea(n,a,flag=0):\n",
    "    g=np.random.uniform(size=[n,2])\n",
    "    s=np.random.uniform(low=0,high=a,size=n)\n",
    "    if flag==1:\n",
    "        xA=[]\n",
    "        yA=[]\n",
    "        X1,X2=np.mgrid[0:1:1/n**3,0:1:1/n**2]\n",
    "        X1=X1.reshape(-1,)\n",
    "        #print(\"X1.shape=\",X1.shape)\n",
    "        X2=X2.reshape(-1,)\n",
    "        #print(\"X2.shape=\",X2.shape)\n",
    "        Y=intens(X1,X2,g,s)\n",
    "        \n",
    "        for i in range(Y.shape[0]):\n",
    "            if Y[i]==1:\n",
    "                xA.append(X1[i])\n",
    "                yA.append(X2[i])\n",
    "        plt.scatter(xA,yA,color='r');\n",
    "    return (g,s)"
   ]
  },
  {
   "cell_type": "markdown",
   "metadata": {},
   "source": [
    "**Question 3:**"
   ]
  },
  {
   "cell_type": "markdown",
   "metadata": {},
   "source": [
    "**On utilise la fonction qu'on vient d'implémenter pour fixer un ensemble $A$ que notre modèle s'efforcera de prédire (on pourra réexécuter plusieurs fois la cellule suivante pour obtenir un ensemble à son goût)** "
   ]
  },
  {
   "cell_type": "code",
   "execution_count": 9,
   "metadata": {},
   "outputs": [
    {
     "data": {
      "image/png": "[encoded data removed]",
      "text/plain": [
       "<Figure size 432x288 with 1 Axes>"
      ]
     },
     "metadata": {
      "needs_background": "light"
     },
     "output_type": "display_data"
    }
   ],
   "source": [
    "n=4\n",
    "a=0.3\n",
    "(g,s)=ensalea(n,a,1)"
   ]
  },
  {
   "cell_type": "markdown",
   "metadata": {},
   "source": [
    "**Question 4:**"
   ]
  },
  {
   "cell_type": "markdown",
   "metadata": {},
   "source": [
    "**On génére un échantillon d'apprentissage de taille $l$ constitué d'une liste d'abscisses $X_{1}$, une liste d'ordonnées $X_{2}$ et la liste $Y$ des labels associée aux points considérés**"
   ]
  },
  {
   "cell_type": "code",
   "execution_count": 10,
   "metadata": {},
   "outputs": [],
   "source": [
    "def echant(l,g,s):\n",
    "    X1=np.random.uniform(size=l)\n",
    "    X2=np.random.uniform(size=l)\n",
    "    Y=intens(X1,X2,g,s)\n",
    "    return [X1,X2,Y]"
   ]
  },
  {
   "cell_type": "code",
   "execution_count": 11,
   "metadata": {},
   "outputs": [],
   "source": [
    "l=100000\n",
    "[X1,X2,Y]=echant(l,g,s)"
   ]
  },
  {
   "cell_type": "markdown",
   "metadata": {},
   "source": [
    "**Question 5:**"
   ]
  },
  {
   "cell_type": "markdown",
   "metadata": {},
   "source": [
    "**La fonction suivante prend en entrée deux indices $i$ et $j$, un point $(x1,x2)$ et un entier $p$.                     \n",
    "Elle renvoie $1$ si $(x1,x2) \\in c_{i,j}$ dans le découpage à $p^{2}$ carreaux et $0$ sinon**"
   ]
  },
  {
   "cell_type": "code",
   "execution_count": 12,
   "metadata": {},
   "outputs": [],
   "source": [
    "def est_dans_c(i,j,x1,x2,p):\n",
    "    return int((i/p<=x1<=(i+1)/p) and (j/p<=x2<=(j+1)/p))"
   ]
  },
  {
   "cell_type": "markdown",
   "metadata": {},
   "source": [
    "**La fonction suivante prend en entrée un point $(x1,x2)$ et un entier $p$.        \n",
    "Elle renvoie le couple d'indices $(i,j)$ tel que $(x1,x2) \\in c_{i,j}$ dans le découpage à $p^{2}$ carreaux**"
   ]
  },
  {
   "cell_type": "code",
   "execution_count": 13,
   "metadata": {},
   "outputs": [],
   "source": [
    "def carreau(x1,x2,p):\n",
    "    return (int(p*x1),int(p*x2))"
   ]
  },
  {
   "cell_type": "markdown",
   "metadata": {},
   "source": [
    "**Ces deux fonctions dans la fonction $estens$. Cette dernière prend en entrée un échantillon d'apprentissage $(X1,X2,Y)$ et un entier $p$. Elle renvoie une matrice $B$ de taille $p \\times p$ et un scalaire $Re$ définis par:**         \n",
    " * $B(i,j)=1$ si $\\hat{l_{ij}^{+}} \\ge \\hat{l_{ij}^{-}}$ et $0$ sinon       \n",
    " * $Re=\\hat{R_{p}^{*}}$                        \n",
    " **B code l'ensemble des $c_{ij}$ participant à la construction de $\\hat{C_p}$       \n",
    " Lorsque le paramètre $trace$ vaut $1$ dans la fonction on fait un affichage de $B$**"
   ]
  },
  {
   "cell_type": "code",
   "execution_count": 14,
   "metadata": {},
   "outputs": [],
   "source": [
    "def estens(X1,X2,Y,p,trace=1):\n",
    "    l=X1.shape[0]\n",
    "    B=np.zeros((p,p))\n",
    "    R=0\n",
    "    for i in range(p):\n",
    "        for j in range(p):#pour chaque carreau\n",
    "            l_p=0\n",
    "            l_m=0\n",
    "            for k in range(l):#pour chaque élément de l'échantillon d'apprentissage\n",
    "                if est_dans_c(i,j,X1[k],X2[k],p): #s'il est dans le carreau courant\n",
    "                    if Y[k]==1:#s'il est aussi dans A\n",
    "                        l_p+=1 #on incrémente l_p\n",
    "                    else: #s'il n'est pas dans A\n",
    "                        l_m+=1 #on incrémente l_m\n",
    "            if l_p>=l_m: #pour chaque carreau c(i,j) où l_p est supérieur à l_m, B[i,j] prend la valeur 1\n",
    "                B[p-j-1,i]=1\n",
    "            #sinon B[i,j] reste à 0\n",
    "    for k in range(l): #pour chaque élément de l'echantillon d'appprentissage\n",
    "        (i,j)=carreau(X1[k],X2[k],p) #on détermine le carreau auquel il appartient\n",
    "        if ((B[i,j]==1 and Y[k]==-1) or (B[i,j]==0 and Y[k]==1)): #si ce carreau code pour C_chap_p alors qu'en vérité l'élément n'appartient pas à A ou inversement\n",
    "            R+=1 #on incrémente R\n",
    "    R=R/l #on renverra la proportion d'éléments sur lesquels on s'est trompés\n",
    "    if trace:\n",
    "        plt.imshow(B,cmap='magma') #dans l'affichage les cases claires correspondent aux 1 et les noires aux 0\n",
    "        plt.show()\n",
    "    return (B,R)"
   ]
  },
  {
   "cell_type": "code",
   "execution_count": 15,
   "metadata": {
    "scrolled": false
   },
   "outputs": [
    {
     "data": {
      "image/png": "[encoded data removed]",
      "text/plain": [
       "<Figure size 432x288 with 1 Axes>"
      ]
     },
     "metadata": {
      "needs_background": "light"
     },
     "output_type": "display_data"
    }
   ],
   "source": [
    "(B,R)=estens(X1,X2,Y,20,trace=1)"
   ]
  },
  {
   "cell_type": "markdown",
   "metadata": {},
   "source": [
    "**On peut noter la proximité entre $B$ et l'ensemble considéré $A$**"
   ]
  },
  {
   "cell_type": "markdown",
   "metadata": {},
   "source": [
    "**On termine cette partie en affichant le risque**"
   ]
  },
  {
   "cell_type": "code",
   "execution_count": 16,
   "metadata": {},
   "outputs": [
    {
     "name": "stdout",
     "output_type": "stream",
     "text": [
      "Le risque empirique associé au classifieur optimal vaut: 44.823 %\n"
     ]
    }
   ],
   "source": [
    "print(\"Le risque empirique associé au classifieur optimal vaut:\",R*100,\"%\")"
   ]
  },
  {
   "cell_type": "markdown",
   "metadata": {},
   "source": [
    "**Question 6:**"
   ]
  },
  {
   "cell_type": "markdown",
   "metadata": {},
   "source": [
    "**La fonction suivante approche la valeur de $R(1_{\\hat{C}_{p}})$ par $R'_{emp}(1_{\\hat{C}_{p}})$ sur un échantillon indépendant de l'échantillon d'apprentissage**"
   ]
  },
  {
   "cell_type": "code",
   "execution_count": 17,
   "metadata": {},
   "outputs": [],
   "source": [
    "def testens(B,m,g,s):\n",
    "    p=B.shape[0]\n",
    "    #on génére un nouvel échantillon de taille m indépendant de l'échantillon d'apprentissage\n",
    "    X1=np.random.uniform(size=m)\n",
    "    X2=np.random.uniform(size=m)\n",
    "    Y=intens(X1,X2,g,s)\n",
    "    #on initialise le risque à 0\n",
    "    R=0\n",
    "    \n",
    "    for k in range(m): #on parcourt tous les individus du nouvel échantillon\n",
    "        (i,j)=carreau(X1[k],X2[k],p)\n",
    "        #si un élément est dans C_p_chap mais pas dans A ou inversement\n",
    "        if (B[i,j]==1 and Y[k]==-1) or (B[i,j]==0 and Y[k]==1):\n",
    "            #on incrémente R\n",
    "            R+=1\n",
    "    #on renvoie la proportion d'erreur\n",
    "    return R/m"
   ]
  },
  {
   "cell_type": "code",
   "execution_count": 22,
   "metadata": {},
   "outputs": [],
   "source": [
    "m=4612\n",
    "liste_risque=[]\n",
    "for i in range(100):\n",
    "    liste_risque.append(testens(B,m,g,s))"
   ]
  },
  {
   "cell_type": "code",
   "execution_count": 24,
   "metadata": {},
   "outputs": [
    {
     "data": {
      "image/png": "[encoded data removed]",
      "text/plain": [
       "<Figure size 432x288 with 1 Axes>"
      ]
     },
     "metadata": {
      "needs_background": "light"
     },
     "output_type": "display_data"
    }
   ],
   "source": [
    "plt.hist(liste_risque,color='b',density=True)\n",
    "plt.title(\"Risque\");"
   ]
  },
  {
   "cell_type": "markdown",
   "metadata": {},
   "source": [
    "**Question 7:**"
   ]
  },
  {
   "cell_type": "code",
   "execution_count": 29,
   "metadata": {},
   "outputs": [
    {
     "data": {
      "text/plain": [
       "4612"
      ]
     },
     "execution_count": 29,
     "metadata": {},
     "output_type": "execute_result"
    }
   ],
   "source": [
    "eta=0.05\n",
    "eps=0.02\n",
    "m0=int(-np.log(eta/2)/(2*eps**2))+1\n",
    "m0"
   ]
  },
  {
   "cell_type": "code",
   "execution_count": 35,
   "metadata": {},
   "outputs": [
    {
     "name": "stdout",
     "output_type": "stream",
     "text": [
      "l= 100\n",
      "min_p= 2\n"
     ]
    },
    {
     "data": {
      "image/png": "[encoded data removed]",
      "text/plain": [
       "<Figure size 432x288 with 1 Axes>"
      ]
     },
     "metadata": {
      "needs_background": "light"
     },
     "output_type": "display_data"
    },
    {
     "name": "stdout",
     "output_type": "stream",
     "text": [
      "l= 500\n",
      "min_p= 60\n"
     ]
    },
    {
     "data": {
      "image/png": "[encoded data removed]",
      "text/plain": [
       "<Figure size 432x288 with 1 Axes>"
      ]
     },
     "metadata": {
      "needs_background": "light"
     },
     "output_type": "display_data"
    },
    {
     "name": "stdout",
     "output_type": "stream",
     "text": [
      "l= 1000\n",
      "min_p= 2\n"
     ]
    },
    {
     "data": {
      "image/png": "[encoded data removed]",
      "text/plain": [
       "<Figure size 432x288 with 1 Axes>"
      ]
     },
     "metadata": {
      "needs_background": "light"
     },
     "output_type": "display_data"
    },
    {
     "name": "stdout",
     "output_type": "stream",
     "text": [
      "l= 10000\n",
      "min_p= 2\n"
     ]
    },
    {
     "data": {
      "image/png": "[encoded data removed]",
      "text/plain": [
       "<Figure size 432x288 with 1 Axes>"
      ]
     },
     "metadata": {
      "needs_background": "light"
     },
     "output_type": "display_data"
    }
   ],
   "source": [
    "liste_l=[100,500,1000,10000]\n",
    "liste_p=np.arange(2,61)\n",
    "for l in liste_l:\n",
    "    print(\"l=\",l)\n",
    "    [X1,X2,Y]=echant(l,g,s)\n",
    "    R_p_star=[]\n",
    "    R_emp_p=[]\n",
    "    for p in liste_p:\n",
    "        #print(\"p=\",p)\n",
    "        min_p=2\n",
    "        [B,Re]=estens(X1,X2,Y,p,trace=0)\n",
    "        R_p_star.append(Re)\n",
    "        R_emp_p.append(testens(B,m0,g,s))\n",
    "        if R_emp_p[-1]<R_emp_p[min_p-2]:\n",
    "            min_p=len(R_emp_p)+1\n",
    "    print(\"min_p_chap=\",min_p)\n",
    "    plt.plot(liste_p,R_p_star,label=\"R_p_star\",color='b')\n",
    "    plt.plot(liste_p,R_emp_p,label=\"R_emp_p\",color='r')\n",
    "    plt.scatter(min_p,R_emp_p[min_p-2],marker='plus',label='min_p_chap')\n",
    "    plt.title(\"l=\"+str(l))\n",
    "    plt.legend()\n",
    "    plt.show()"
   ]
  },
  {
   "cell_type": "markdown",
   "metadata": {},
   "source": [
    "**Question 8:**"
   ]
  },
  {
   "cell_type": "markdown",
   "metadata": {},
   "source": [
    "**Pour de petites valeurs de $l$, on peut voir que le risque de population est très oscillant et que le risque de l'échantillon est très élevé.**\n"
   ]
  },
  {
   "cell_type": "markdown",
   "metadata": {},
   "source": [
    "# FIN"
   ]
  },
  {
   "cell_type": "markdown",
   "metadata": {},
   "source": [
    "**Fait par Youness Khanjar M2MAPI3**"
   ]
  }
 ],
 "metadata": {
  "kernelspec": {
   "display_name": "Python 3",
   "language": "python",
   "name": "python3"
  },
  "language_info": {
   "codemirror_mode": {
    "name": "ipython",
    "version": 3
   },
   "file_extension": ".py",
   "mimetype": "text/x-python",
   "name": "python",
   "nbconvert_exporter": "python",
   "pygments_lexer": "ipython3",
   "version": "3.7.6"
  }
 },
 "nbformat": 4,
 "nbformat_minor": 4
}
